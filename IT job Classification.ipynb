{
 "cells": [
  {
   "cell_type": "markdown",
   "metadata": {},
   "source": [
    "# IT Job Classification:"
   ]
  },
  {
   "cell_type": "code",
   "execution_count": 1,
   "metadata": {},
   "outputs": [],
   "source": [
    "import gensim\n",
    "import os\n",
    "import collections\n",
    "import smart_open\n",
    "import random\n",
    "import pandas as pd\n",
    "import numpy as np\n",
    "from sklearn.model_selection import train_test_split\n",
    "\n",
    "RANDOM_STATE = 41"
   ]
  },
  {
   "cell_type": "code",
   "execution_count": 3,
   "metadata": {},
   "outputs": [],
   "source": [
    "df = pd.read_csv('data job posts.csv')"
   ]
  },
  {
   "cell_type": "code",
   "execution_count": 4,
   "metadata": {},
   "outputs": [
    {
     "data": {
      "text/html": [
       "<div>\n",
       "<style scoped>\n",
       "    .dataframe tbody tr th:only-of-type {\n",
       "        vertical-align: middle;\n",
       "    }\n",
       "\n",
       "    .dataframe tbody tr th {\n",
       "        vertical-align: top;\n",
       "    }\n",
       "\n",
       "    .dataframe thead th {\n",
       "        text-align: right;\n",
       "    }\n",
       "</style>\n",
       "<table border=\"1\" class=\"dataframe\">\n",
       "  <thead>\n",
       "    <tr style=\"text-align: right;\">\n",
       "      <th></th>\n",
       "      <th>text</th>\n",
       "      <th>label</th>\n",
       "    </tr>\n",
       "  </thead>\n",
       "  <tbody>\n",
       "    <tr>\n",
       "      <td>0</td>\n",
       "      <td>[ameria, investment, consulting, company, job,...</td>\n",
       "      <td>False</td>\n",
       "    </tr>\n",
       "    <tr>\n",
       "      <td>1</td>\n",
       "      <td>[international, research, exchanges, board, ir...</td>\n",
       "      <td>False</td>\n",
       "    </tr>\n",
       "    <tr>\n",
       "      <td>2</td>\n",
       "      <td>[caucasus, environmental, ngo, network, cenn, ...</td>\n",
       "      <td>False</td>\n",
       "    </tr>\n",
       "    <tr>\n",
       "      <td>3</td>\n",
       "      <td>[manoff, group, job, title, bcc, specialist, p...</td>\n",
       "      <td>False</td>\n",
       "    </tr>\n",
       "    <tr>\n",
       "      <td>4</td>\n",
       "      <td>[yerevan, brandy, company, job, title, softwar...</td>\n",
       "      <td>True</td>\n",
       "    </tr>\n",
       "  </tbody>\n",
       "</table>\n",
       "</div>"
      ],
      "text/plain": [
       "                                                text  label\n",
       "0  [ameria, investment, consulting, company, job,...  False\n",
       "1  [international, research, exchanges, board, ir...  False\n",
       "2  [caucasus, environmental, ngo, network, cenn, ...  False\n",
       "3  [manoff, group, job, title, bcc, specialist, p...  False\n",
       "4  [yerevan, brandy, company, job, title, softwar...   True"
      ]
     },
     "execution_count": 4,
     "metadata": {},
     "output_type": "execute_result"
    }
   ],
   "source": [
    "df['text'] = df.jobpost.apply(gensim.utils.simple_preprocess)\n",
    "df[\"label\"] = df.IT\n",
    "df = df[[\"text\", \"label\"]]\n",
    "df.head(5)"
   ]
  },
  {
   "cell_type": "markdown",
   "metadata": {},
   "source": [
    "### Define a Function to Read and Preprocess Text"
   ]
  },
  {
   "cell_type": "code",
   "execution_count": 5,
   "metadata": {},
   "outputs": [],
   "source": [
    "train, test = train_test_split(df, test_size=0.30, random_state=RANDOM_STATE, stratify=df[\"label\"])"
   ]
  },
  {
   "cell_type": "code",
   "execution_count": 6,
   "metadata": {},
   "outputs": [],
   "source": [
    "def read_corpus(dataframe, tokens_only=False):\n",
    "    for i, row in enumerate(dataframe.iterrows()):\n",
    "        if tokens_only:\n",
    "            yield row[1]['text']\n",
    "        else:\n",
    "            # For training data, add tags\n",
    "            yield gensim.models.doc2vec.TaggedDocument(row[1]['text'], [row[1]['label']])"
   ]
  },
  {
   "cell_type": "code",
   "execution_count": 7,
   "metadata": {},
   "outputs": [],
   "source": [
    "train_corpus = list(read_corpus(train))\n",
    "test_corpus = list(read_corpus(test, tokens_only=True))"
   ]
  },
  {
   "cell_type": "code",
   "execution_count": 8,
   "metadata": {},
   "outputs": [
    {
     "data": {
      "text/plain": [
       "[TaggedDocument(words=['save', 'the', 'children', 'international', 'armenian', 'representative', 'office', 'title', 'driver', 'logistician', 'term', 'full', 'time', 'start', 'date', 'time', 'march', 'location', 'yerevan', 'armenia', 'job', 'description', 'the', 'driver', 'logistician', 'will', 'be', 'fully', 'responsible', 'for', 'the', 'maintenance', 'and', 'technical', 'oversight', 'of', 'the', 'representative', 'office', 'vehicle', 'fleet', 'transport', 'operations', 'and', 'reporting', 'this', 'includes', 'scheduling', 'of', 'vehicles', 'for', 'servicing', 'management', 'of', 'vehicle', 'fleet', 'and', 'coordination', 'of', 'vehicle', 'assignments', 'for', 'staff', 'transportation', 'and', 'supervision', 'of', 'drivers', 'the', 'incumbent', 'will', 'be', 'ultimately', 'responsible', 'for', 'ensuring', 'that', 'all', 'sci', 'personnel', 'and', 'property', 'are', 'transported', 'in', 'the', 'safest', 'manner', 'possible', 'and', 'in', 'strict', 'accordance', 'with', 'relevant', 'agency', 'and', 'donor', 'policy', 'and', 'procedures', 'and', 'local', 'traffic', 'regulations', 'the', 'driver', 'logistician', 'will', 'also', 'be', 'responsible', 'for', 'outsourcing', 'services', 'for', 'office', 'maintenance', 'and', 'repair', 'transportation', 'services', 'for', 'delivery', 'of', 'materials', 'to', 'the', 'projects', 'sites', 'and', 'logistical', 'support', 'to', 'the', 'sci', 'staff', 'job', 'overseeing', 'technical', 'conditions', 'and', 'coordination', 'of', 'routine', 'care', 'and', 'maintenance', 'of', 'office', 'vehicles', 'ensure', 'that', 'all', 'office', 'vehicles', 'are', 'in', 'good', 'operational', 'order', 'so', 'as', 'to', 'ensure', 'the', 'safety', 'of', 'sci', 'personnel', 'the', 'maximum', 'efficiency', 'of', 'the', 'transport', 'means', 'and', 'the', 'preparedness', 'of', 'the', 'office', 'to', 'respond', 'to', 'its', 'programmatic', 'and', 'administrative', 'needs', 'ensure', 'routine', 'planning', 'and', 'regular', 'rotation', 'of', 'vehicles', 'for', 'inspection', 'maintenance', 'and', 'repair', 'and', 'keep', 'detailed', 'records', 'oversee', 'the', 'scheduling', 'of', 'regular', 'service', 'and', 'repairs', 'of', 'vehicles', 'supervise', 'all', 'mechanical', 'work', 'and', 'maintain', 'detailed', 'service', 'records', 'for', 'all', 'vehicles', 'ensure', 'that', 'good', 'quality', 'services', 'and', 'materials', 'spare', 'parts', 'are', 'procured', 'at', 'reasonable', 'cost', 'where', 'requested', 'coordinate', 'with', 'procurement', 'in', 'the', 'identification', 'and', 'selection', 'of', 'appropriate', 'goods', 'and', 'services', 'necessary', 'for', 'the', 'maintenance', 'and', 'repair', 'of', 'sci', 'vehicles', 'obtain', 'proper', 'documents', 'from', 'service', 'providers', 'and', 'suppliers', 'and', 'ensure', 'the', 'timely', 'payment', 'for', 'services', 'materials', 'procured', 'management', 'of', 'vehicle', 'fleet', 'and', 'coordination', 'of', 'vehicle', 'assignments', 'for', 'staff', 'transportation', 'ensure', 'that', 'all', 'vehicles', 'are', 'properly', 'and', 'securely', 'stored', 'or', 'parked', 'in', 'designated', 'places', 'when', 'not', 'in', 'use', 'ensure', 'that', 'all', 'sci', 'vehicles', 'have', 'full', 'tank', 'of', 'diesel', 'petrol', 'at', 'the', 'end', 'of', 'each', 'working', 'day', 'oversee', 'and', 'coordinate', 'all', 'inter', 'office', 'transport', 'and', 'logistics', 'to', 'ensure', 'efficient', 'and', 'fair', 'usage', 'of', 'office', 'transport', 'resources', 'ensure', 'first', 'and', 'foremost', 'that', 'field', 'office', 'transport', 'resources', 'are', 'used', 'to', 'the', 'maximum', 'advantage', 'of', 'achieving', 'office', 'project', 'and', 'contractual', 'obligations', 'while', 'also', 'ensuring', 'appropriate', 'and', 'adequate', 'support', 'to', 'all', 'other', 'operational', 'and', 'support', 'units', 'assign', 'specific', 'tasks', 'to', 'each', 'driver', 'respond', 'to', 'unplanned', 'vehicle', 'requests', 'each', 'day', 'in', 'an', 'appropriate', 'manner', 'ensure', 'preparedness', 'of', 'vehicle', 'fleet', 'for', 'evacuation', 'in', 'case', 'of', 'emergency', 'training', 'coordination', 'and', 'supervision', 'of', 'office', 'drivers', 'directly', 'supervise', 'the', 'work', 'of', 'drivers', 'ensure', 'that', 'all', 'drivers', 'are', 'fully', 'informed', 'kept', 'up', 'to', 'date', 'and', 'adhere', 'to', 'all', 'relevant', 'co', 'policies', 'and', 'procedures', 'regarding', 'travel', 'and', 'vehicle', 'usage', 'ensure', 'that', 'all', 'drivers', 'are', 'properly', 'trained', 'and', 'possess', 'all', 'proper', 'documents', 'have', 'the', 'necessary', 'skills', 'to', 'ensure', 'safe', 'usage', 'of', 'co', 'vehicles', 'and', 'transportation', 'of', 'office', 'staff', 'ensure', 'that', 'the', 'office', 'personnel', 'is', 'aware', 'of', 'relevant', 'policies', 'and', 'procedures', 'and', 'those', 'are', 'strictly', 'enforced', 'by', 'office', 'drivers', 'and', 'management', 'personnel', 'overseeing', 'the', 'regular', 'monitoring', 'of', 'records', 'and', 'ensuring', 'timely', 'reporting', 'ensure', 'that', 'all', 'vehicles', 'have', 'log', 'books', 'and', 'that', 'the', 'log', 'books', 'are', 'fully', 'maintained', 'and', 'up', 'to', 'date', 'per', 'established', 'policy', 'and', 'procedures', 'and', 'agency', 'and', 'donor', 'regulations', 'monitor', 'and', 'ensure', 'that', 'related', 'office', 'travel', 'and', 'vehicle', 'usage', 'are', 'properly', 'recorded', 'in', 'the', 'vehicle', 'log', 'books', 'reconcile', 'petrol', 'consumption', 'materials', 'and', 'spare', 'parts', 'usage', 'every', 'month', 'prepare', 'monthly', 'reports', 'to', 'reconcile', 'vehicle', 'usage', 'chargeable', 'to', 'sci', 'programs', 'assist', 'in', 'any', 'other', 'appropriate', 'reporting', 'and', 'or', 'monitoring', 'in', 'coordination', 'with', 'senior', 'management', 'to', 'improve', 'the', 'efficiency', 'of', 'transport', 'usage', 'ensure', 'that', 'all', 'vehicles', 'carry', 'any', 'mandated', 'documentation', 'and', 'or', 'equipment', 'as', 'required', 'by', 'agency', 'and', 'donor', 'policies', 'and', 'local', 'regulations', 'logistical', 'support', 'perform', 'collection', 'of', 'vehicle', 'related', 'price', 'quotes', 'for', 'procurement', 'requiring', 'competitive', 'analyses', 'perform', 'custom', 'clearance', 'of', 'pouches', 'and', 'parcels', 'received', 'on', 'the', 'name', 'of', 'sci', 'ensure', 'appropriate', 'and', 'timely', 'registration', 'of', 'sci', 'with', 'custom', 'authorities', 'organize', 'delivery', 'of', 'project', 'materials', 'to', 'the', 'impact', 'area', 'sites', 'ensure', 'selection', 'of', 'reliable', 'transportation', 'companies', 'including', 'collecting', 'quotes', 'as', 'needed', 'and', 'work', 'with', 'them', 'to', 'ensure', 'timely', 'and', 'safe', 'delivery', 'of', 'purchased', 'goods', 'to', 'the', 'project', 'sites', 'assist', 'the', 'operations', 'and', 'security', 'coordinator', 'in', 'vehicle', 'fleet', 'management', 'ensuring', 'that', 'it', 'meets', 'the', 'needs', 'of', 'the', 'co', 'and', 'is', 'maintained', 'in', 'compliance', 'with', 'sci', 'policies', 'and', 'procedures', 'ensure', 'that', 'all', 'vehicles', 'are', 'properly', 'maintained', 'and', 'supplied', 'with', 'necessary', 'equipment', 'first', 'aid', 'kits', 'assist', 'the', 'operations', 'and', 'security', 'coordinator', 'in', 'procurement', 'operations', 'act', 'in', 'accordance', 'with', 'and', 'follow', 'effective', 'procurement', 'policies', 'and', 'procedures', 'ensure', 'that', 'periodic', 'mandatory', 'maintenance', 'check', 'ups', 'of', 'vehicles', 'are', 'carried', 'out', 'in', 'line', 'with', 'the', 'ra', 'legislation', 'ensure', 'that', 'all', 'mandatory', 'insurance', 'related', 'to', 'the', 'vehicle', 'fleet', 'is', 'done', 'and', 'updated', 'in', 'timely', 'manner', 'required', 'qualifications', 'college', 'degree', 'preferably', 'in', 'mechanics', 'or', 'related', 'field', 'and', 'minimum', 'of', 'years', 'of', 'relevant', 'work', 'experience', 'driver', 'license', 'excellent', 'organizational', 'skills', 'critical', 'and', 'creative', 'thinking', 'ability', 'to', 'work', 'on', 'ms', 'words', 'and', 'excel', 'excellent', 'interpersonal', 'skills', 'including', 'patience', 'diplomacy', 'willingness', 'to', 'listen', 'and', 'respect', 'for', 'colleagues', 'ability', 'to', 'work', 'as', 'part', 'of', 'team', 'ability', 'to', 'work', 'effectively', 'in', 'fast', 'paced', 'stressful', 'environment', 'flexibility', 'willingness', 'to', 'perform', 'other', 'duties', 'and', 'work', 'irregular', 'hours', 'fluency', 'in', 'written', 'and', 'spoken', 'armenian', 'language', 'basic', 'knowledge', 'of', 'english', 'language', 'is', 'plus', 'application', 'procedures', 'to', 'apply', 'candidates', 'are', 'asked', 'to', 'email', 'their', 'cvs', 'to', 'anna', 'khachaturyan', 'mentioning', 'driver', 'logistician', 'in', 'the', 'subject', 'line', 'of', 'the', 'message', 'only', 'shortlisted', 'candidates', 'will', 'be', 'invited', 'for', 'an', 'interview', 'save', 'the', 'children', 'international', 'needs', 'to', 'keep', 'children', 'safe', 'so', 'its', 'selection', 'process', 'reflects', 'the', 'organization', 'commitment', 'to', 'the', 'protection', 'of', 'children', 'from', 'abuse', 'please', 'clearly', 'mention', 'in', 'your', 'application', 'letter', 'that', 'you', 'learned', 'of', 'this', 'job', 'opportunity', 'through', 'career', 'center', 'and', 'mention', 'the', 'url', 'of', 'its', 'website', 'www', 'careercenter', 'am', 'thanks', 'opening', 'date', 'february', 'application', 'deadline', 'march', 'about', 'company', 'save', 'the', 'children', 'international', 'established', 'its', 'presence', 'in', 'armenia', 'in', 'with', 'mission', 'to', 'achieve', 'immediate', 'and', 'lasting', 'change', 'in', 'children', 'lives', 'to', 'place', 'free', 'posting', 'for', 'job', 'or', 'other', 'career', 'related', 'opportunities', 'available', 'in', 'your', 'organization', 'just', 'go', 'to', 'the', 'www', 'careercenter', 'am', 'website', 'and', 'follow', 'the', 'post', 'an', 'announcement', 'link'], tags=[False]),\n",
       " TaggedDocument(words=['world', 'vision', 'armenia', 'title', 'project', 'manager', 'for', 'caring', 'for', 'equality', 'project', 'start', 'date', 'time', 'asap', 'duration', 'years', 'with', 'possible', 'extension', 'location', 'yerevan', 'armenia', 'job', 'description', 'the', 'project', 'manager', 'pm', 'will', 'have', 'overall', 'responsibility', 'for', 'the', 'coordination', 'of', 'all', 'the', 'project', 'activities', 'and', 'staff', 'he', 'she', 'will', 'be', 'responsible', 'for', 'technical', 'leadership', 'and', 'administrative', 'oversight', 'of', 'the', 'caring', 'for', 'equality', 'project', 'and', 'will', 'serve', 'as', 'the', 'principal', 'institutional', 'liaison', 'to', 'the', 'donor', 'partners', 'and', 'local', 'government', 'entities', 'the', 'pm', 'shall', 'have', 'keen', 'understanding', 'of', 'the', 'unique', 'political', 'dynamics', 'related', 'to', 'gender', 'approaches', 'in', 'the', 'country', 'and', 'work', 'carefully', 'and', 'collaboratively', 'to', 'support', 'the', 'various', 'entities', 'in', 'armenia', 'pm', 'will', 'manage', 'team', 'of', 'the', 'project', 'staff', 'and', 'engagement', 'with', 'stakeholders', 'and', 'ensure', 'the', 'quality', 'timeliness', 'and', 'efficiency', 'of', 'all', 'products', 'and', 'activities', 'generated', 'under', 'the', 'project', 'the', 'pm', 'is', 'expected', 'to', 'have', 'strong', 'leadership', 'qualities', 'and', 'the', 'depth', 'and', 'breadth', 'of', 'technical', 'and', 'management', 'expertise', 'he', 'she', 'also', 'provides', 'strategic', 'leadership', 'and', 'supervision', 'of', 'partners', 'consultants', 'service', 'contractors', 'while', 'ensuring', 'the', 'security', 'feasibility', 'and', 'sustainability', 'of', 'the', 'project', 'and', 'contribution', 'to', 'child', 'well', 'being', 'outcomes', 'job', 'direct', 'and', 'oversee', 'project', 'implementation', 'ensuring', 'that', 'all', 'strategic', 'objectives', 'are', 'met', 'through', 'proper', 'design', 'staffing', 'implementation', 'and', 'quality', 'assurance', 'establish', 'and', 'maintain', 'effective', 'project', 'reporting', 'evaluation', 'and', 'communication', 'systems', 'submit', 'timely', 'accurate', 'and', 'professional', 'reports', 'that', 'meet', 'donor', 'requirements', 'manage', 'the', 'project', 'budget', 'within', 'approved', 'spending', 'levels', 'and', 'ensure', 'the', 'submission', 'of', 'accurate', 'and', 'timely', 'financial', 'reports', 'to', 'donors', 'and', 'the', 'so', 'staff', 'ensure', 'the', 'project', 'expenses', 'are', 'reasonable', 'allocated', 'as', 'per', 'assigned', 'budget', 'prudent', 'and', 'spent', 'in', 'accordance', 'with', 'donor', 'rules', 'and', 'regulations', 'to', 'ensure', 'low', 'risk', 'audits', 'liaise', 'with', 'local', 'government', 'officials', 'local', 'communities', 'donor', 'representatives', 'and', 'other', 'stakeholders', 'as', 'appropriate', 'facilitate', 'learning', 'of', 'best', 'practices', 'on', 'the', 'project', 'technical', 'areas', 'and', 'other', 'donor', 'organizations', 'provide', 'spiritual', 'leadership', 'to', 'the', 'project', 'team', 'attend', 'and', 'participate', 'in', 'weekly', 'devotional', 'meetings', 'establish', 'clear', 'and', 'frequent', 'communication', 'regarding', 'the', 'project', 'progress', 'and', 'oversight', 'management', 'with', 'the', 'donor', 'required', 'qualifications', 'the', 'following', 'knowledge', 'skills', 'and', 'abilities', 'may', 'have', 'been', 'acquired', 'through', 'combination', 'of', 'formal', 'schooling', 'self', 'education', 'prior', 'experience', 'or', 'on', 'the', 'job', 'training', 'master', 'degree', 'in', 'related', 'field', 'or', 'equivalent', 'qualifications', 'in', 'grant', 'management', 'and', 'technical', 'field', 'in', 'developing', 'countries', 'at', 'least', 'years', 'of', 'extensive', 'international', 'development', 'experience', 'in', 'managing', 'projects', 'proven', 'ability', 'to', 'manage', 'technical', 'assistance', 'teams', 'knowledge', 'of', 'and', 'familiarity', 'with', 'international', 'assistance', 'program', 'requirements', 'their', 'policies', 'and', 'regulations', 'keen', 'understanding', 'of', 'the', 'unique', 'political', 'dynamics', 'of', 'the', 'country', 'and', 'ability', 'to', 'work', 'carefully', 'and', 'collaboratively', 'to', 'maintain', 'productive', 'relationships', 'with', 'the', 'various', 'government', 'entities', 'in', 'armenia', 'ability', 'to', 'integrate', 'the', 'teams', 'of', 'professionals', 'around', 'common', 'goals', 'demonstrated', 'accomplishment', 'in', 'working', 'with', 'host', 'country', 'professionals', 'ministries', 'and', 'with', 'donor', 'colleagues', 'in', 'the', 'country', 'strong', 'presentation', 'and', 'report', 'writing', 'skills', 'experience', 'in', 'leading', 'diverse', 'teams', 'experience', 'in', 'managing', 'contracts', 'under', 'grants', 'for', 'complex', 'projects', 'fluency', 'in', 'english', 'and', 'armenian', 'languages', 'experience', 'in', 'managing', 'inter', 'agency', 'consortiums', 'is', 'preferred', 'be', 'prepared', 'to', 'travel', 'to', 'implementation', 'sites', 'and', 'regional', 'meetings', 'as', 'required', 'application', 'procedures', 'if', 'you', 'are', 'interested', 'in', 'this', 'position', 'to', 'apply', 'please', 'register', 'at', 'http', 'careers', 'wvi', 'org', 'job', 'opportunities', 'in', 'armenia', 'and', 'send', 'your', 'cv', 'to', 'hr_wvarm', 'no', 'information', 'inquiries', 'will', 'be', 'handled', 'over', 'the', 'phone', 'only', 'short', 'listed', 'candidates', 'will', 'be', 'notified', 'for', 'the', 'interview', 'please', 'mention', 'the', 'position', 'you', 'are', 'applying', 'for', 'in', 'the', 'subject', 'line', 'please', 'clearly', 'mention', 'in', 'your', 'application', 'letter', 'that', 'you', 'learned', 'of', 'this', 'job', 'opportunity', 'through', 'career', 'center', 'and', 'mention', 'the', 'url', 'of', 'its', 'website', 'www', 'careercenter', 'am', 'thanks', 'opening', 'date', 'october', 'application', 'deadline', 'november', 'about', 'company', 'world', 'vision', 'is', 'christian', 'humanitarian', 'and', 'development', 'organization', 'working', 'to', 'create', 'lasting', 'change', 'in', 'the', 'lives', 'established', 'in', 'world', 'vision', 'operates', 'in', 'nearly', 'countries', 'worldwide', 'it', 'is', 'christian', 'relief', 'development', 'and', 'advocacy', 'organization', 'dedicated', 'to', 'working', 'with', 'children', 'families', 'and', 'communities', 'to', 'overcome', 'poverty', 'and', 'injustice', 'world', 'vision', 'pursues', 'life', 'in', 'all', 'its', 'fullness', 'for', 'every', 'child', 'and', 'serves', 'all', 'people', 'regardless', 'of', 'religion', 'race', 'ethnicity', 'or', 'gender', 'world', 'vision', 'armenia', 'works', 'in', 'communities', 'in', 'six', 'marzes', 'of', 'armenia', 'and', 'in', 'yerevan', 'supporting', 'children', 'and', 'their', 'families', 'the', 'organization', 'fulfills', 'advocacy', 'health', 'care', 'education', 'economic', 'development', 'child', 'protection', 'and', 'spiritual', 'growth', 'activities', 'wv', 'armenia', 'operates', 'mainly', 'through', 'its', 'years', 'long', 'term', 'area', 'development', 'programs', 'adp', 'that', 'are', 'predominantly', 'funded', 'through', 'child', 'sponsorship', 'adps', 'are', 'focused', 'on', 'promoting', 'child', 'well', 'being', 'through', 'community', 'participation', 'and', 'ownership', 'to', 'place', 'free', 'posting', 'for', 'job', 'or', 'other', 'career', 'related', 'opportunities', 'available', 'in', 'your', 'organization', 'just', 'go', 'to', 'the', 'www', 'careercenter', 'am', 'website', 'and', 'follow', 'the', 'post', 'an', 'announcement', 'link'], tags=[False]),\n",
       " TaggedDocument(words=['termosupply', 'programms', 'piu', 'si', 'of', 'ministry', 'of', 'finance', 'and', 'economy', 'of', 'ra', 'title', 'office', 'manager', 'term', 'full', 'time', 'start', 'date', 'time', 'july', 'duration', 'permanent', 'location', 'yerevan', 'armenia', 'job', 'description', 'job', 'provide', 'current', 'activities', 'of', 'the', 'office', 'procurement', 'of', 'reserves', 'office', 'supplies', 'fast', 'worn', 'out', 'things', 'uninterrupted', 'operation', 'of', 'vehicle', 'devices', 'and', 'equipments', 'including', 'connection', 'internet', 'website', 'internal', 'computer', 'and', 'phone', 'network', 'etc', 'carry', 'out', 'the', 'accounting', 'stock', 'taking', 'maintenance', 'and', 'distribution', 'in', 'accordance', 'with', 'the', 'specified', 'order', 'of', 'office', 'materials', 'supplies', 'fast', 'worn', 'out', 'things', 'and', 'stocks', 'of', 'materials', 'and', 'capital', 'equipment', 'which', 'are', 'under', 'the', 'direction', 'of', 'the', 'office', 'provide', 'publishing', 'of', 'the', 'piu', 'and', 'project', 'related', 'materials', 'information', 'creation', 'of', 'data', 'base', 'replenish', 'the', 'information', 'create', 'databases', 'administer', 'and', 'replenish', 'the', 'ones', 'develop', 'and', 'introduce', 'the', 'system', 'of', 'piu', 'staff', 'attendance', 'registration', 'conduct', 'the', 'registration', 'book', 'and', 'submit', 'the', 'monthly', 'reports', 'regarding', 'the', 'attendance', 'and', 'stocks', 'of', 'materials', 'and', 'capital', 'equipment', 'in', 'specified', 'form', 'technical', 'provision', 'connected', 'with', 'organization', 'of', 'workshops', 'visits', 'negotiations', 'and', 'other', 'meetings', 'carry', 'out', 'import', 'of', 'supplied', 'goods', 'in', 'the', 'frame', 'of', 'the', 'project', 'and', 'activities', 'connected', 'with', 'delivery', 'acceptance', 'of', 'the', 'goods', 'or', 'implemented', 'activities', 'participate', 'in', 'activities', 'of', 'piu', 'budget', 'preparation', 'give', 'proposals', 'regarding', 'planning', 'of', 'expenditure', 'items', 'required', 'qualifications', 'higher', 'education', 'in', 'management', 'or', 'economics', 'at', 'least', 'years', 'of', 'work', 'experience', 'as', 'well', 'as', 'ability', 'of', 'activities', 'organization', 'evaluation', 'of', 'processes', 'knowledge', 'of', 'communication', 'business', 'ethics', 'and', 'psychology', 'and', 'ability', 'of', 'good', 'fellowship', 'computer', 'literacy', 'particularly', 'the', 'knowledge', 'of', 'up', 'to', 'date', 'and', 'widespread', 'programs', 'and', 'internet', 'is', 'obligatory', 'and', 'knowledge', 'of', 'ms', 'access', 'power', 'point', 'acrobat', 'reader', 'photoshop', 'and', 'other', 'programs', 'used', 'in', 'practice', 'of', 'office', 'operation', 'is', 'desirable', 'good', 'command', 'of', 'armenian', 'english', 'and', 'russian', 'languages', 'high', 'level', 'organizational', 'skills', 'excellent', 'communication', 'skills', 'energetic', 'enthusiastic', 'sociable', 'and', 'creative', 'personality', 'remuneration', 'salary', 'based', 'on', 'work', 'experience', 'and', 'qualifications', 'application', 'procedures', 'candidates', 'should', 'send', 'their', 'cvs', 'to', 'tsppiu', 'please', 'note', 'that', 'only', 'short', 'listed', 'candidates', 'will', 'be', 'contacted', 'please', 'clearly', 'mention', 'in', 'your', 'application', 'letter', 'that', 'you', 'learned', 'of', 'this', 'job', 'opportunity', 'through', 'career', 'center', 'and', 'mention', 'the', 'url', 'of', 'its', 'website', 'www', 'careercenter', 'am', 'thanks', 'opening', 'date', 'june', 'application', 'deadline', 'june', 'about', 'company', 'termosupply', 'programms', 'piu', 'si', 'implements', 'world', 'bank', 'financed', 'urban', 'heating', 'project', 'to', 'place', 'free', 'posting', 'for', 'job', 'or', 'other', 'career', 'related', 'opportunities', 'available', 'in', 'your', 'organization', 'just', 'go', 'to', 'the', 'www', 'careercenter', 'am', 'website', 'and', 'follow', 'the', 'post', 'an', 'announcement', 'link'], tags=[False])]"
      ]
     },
     "execution_count": 8,
     "metadata": {},
     "output_type": "execute_result"
    }
   ],
   "source": [
    "train_corpus[:3]"
   ]
  },
  {
   "cell_type": "code",
   "execution_count": 9,
   "metadata": {},
   "outputs": [
    {
     "data": {
      "text/plain": [
       "249"
      ]
     },
     "execution_count": 9,
     "metadata": {},
     "output_type": "execute_result"
    }
   ],
   "source": [
    "len(test_corpus[:1][0])"
   ]
  },
  {
   "cell_type": "markdown",
   "metadata": {},
   "source": [
    "### Training the Model"
   ]
  },
  {
   "cell_type": "markdown",
   "metadata": {},
   "source": [
    "**Instantiate a Doc2Vec Object**"
   ]
  },
  {
   "cell_type": "code",
   "execution_count": 10,
   "metadata": {},
   "outputs": [],
   "source": [
    "model = gensim.models.doc2vec.Doc2Vec(vector_size=50, min_count=2, epochs=40)"
   ]
  },
  {
   "cell_type": "markdown",
   "metadata": {},
   "source": [
    "### Build a Vocabulary"
   ]
  },
  {
   "cell_type": "code",
   "execution_count": 11,
   "metadata": {},
   "outputs": [],
   "source": [
    "model.build_vocab(train_corpus)"
   ]
  },
  {
   "cell_type": "markdown",
   "metadata": {},
   "source": [
    "**Time to Train**"
   ]
  },
  {
   "cell_type": "code",
   "execution_count": 12,
   "metadata": {},
   "outputs": [
    {
     "name": "stdout",
     "output_type": "stream",
     "text": [
      "Wall time: 5min 12s\n"
     ]
    }
   ],
   "source": [
    "%time model.train(train_corpus, total_examples=model.corpus_count, epochs=model.epochs)"
   ]
  },
  {
   "cell_type": "markdown",
   "metadata": {},
   "source": [
    "## Assessing Mode"
   ]
  },
  {
   "cell_type": "code",
   "execution_count": 13,
   "metadata": {},
   "outputs": [
    {
     "name": "stdout",
     "output_type": "stream",
     "text": [
      "Document (0): «save the children international armenian representative office title driver logistician term full time start date time march location yerevan armenia job description the driver logistician will be fully responsible for the maintenance and technical oversight of the representative office vehicle fleet transport operations and reporting this includes scheduling of vehicles for servicing management of vehicle fleet and coordination of vehicle assignments for staff transportation and supervision of drivers the incumbent will be ultimately responsible for ensuring that all sci personnel and property are transported in the safest manner possible and in strict accordance with relevant agency and donor policy and procedures and local traffic regulations the driver logistician will also be responsible for outsourcing services for office maintenance and repair transportation services for delivery of materials to the projects sites and logistical support to the sci staff job overseeing technical conditions and coordination of routine care and maintenance of office vehicles ensure that all office vehicles are in good operational order so as to ensure the safety of sci personnel the maximum efficiency of the transport means and the preparedness of the office to respond to its programmatic and administrative needs ensure routine planning and regular rotation of vehicles for inspection maintenance and repair and keep detailed records oversee the scheduling of regular service and repairs of vehicles supervise all mechanical work and maintain detailed service records for all vehicles ensure that good quality services and materials spare parts are procured at reasonable cost where requested coordinate with procurement in the identification and selection of appropriate goods and services necessary for the maintenance and repair of sci vehicles obtain proper documents from service providers and suppliers and ensure the timely payment for services materials procured management of vehicle fleet and coordination of vehicle assignments for staff transportation ensure that all vehicles are properly and securely stored or parked in designated places when not in use ensure that all sci vehicles have full tank of diesel petrol at the end of each working day oversee and coordinate all inter office transport and logistics to ensure efficient and fair usage of office transport resources ensure first and foremost that field office transport resources are used to the maximum advantage of achieving office project and contractual obligations while also ensuring appropriate and adequate support to all other operational and support units assign specific tasks to each driver respond to unplanned vehicle requests each day in an appropriate manner ensure preparedness of vehicle fleet for evacuation in case of emergency training coordination and supervision of office drivers directly supervise the work of drivers ensure that all drivers are fully informed kept up to date and adhere to all relevant co policies and procedures regarding travel and vehicle usage ensure that all drivers are properly trained and possess all proper documents have the necessary skills to ensure safe usage of co vehicles and transportation of office staff ensure that the office personnel is aware of relevant policies and procedures and those are strictly enforced by office drivers and management personnel overseeing the regular monitoring of records and ensuring timely reporting ensure that all vehicles have log books and that the log books are fully maintained and up to date per established policy and procedures and agency and donor regulations monitor and ensure that related office travel and vehicle usage are properly recorded in the vehicle log books reconcile petrol consumption materials and spare parts usage every month prepare monthly reports to reconcile vehicle usage chargeable to sci programs assist in any other appropriate reporting and or monitoring in coordination with senior management to improve the efficiency of transport usage ensure that all vehicles carry any mandated documentation and or equipment as required by agency and donor policies and local regulations logistical support perform collection of vehicle related price quotes for procurement requiring competitive analyses perform custom clearance of pouches and parcels received on the name of sci ensure appropriate and timely registration of sci with custom authorities organize delivery of project materials to the impact area sites ensure selection of reliable transportation companies including collecting quotes as needed and work with them to ensure timely and safe delivery of purchased goods to the project sites assist the operations and security coordinator in vehicle fleet management ensuring that it meets the needs of the co and is maintained in compliance with sci policies and procedures ensure that all vehicles are properly maintained and supplied with necessary equipment first aid kits assist the operations and security coordinator in procurement operations act in accordance with and follow effective procurement policies and procedures ensure that periodic mandatory maintenance check ups of vehicles are carried out in line with the ra legislation ensure that all mandatory insurance related to the vehicle fleet is done and updated in timely manner required qualifications college degree preferably in mechanics or related field and minimum of years of relevant work experience driver license excellent organizational skills critical and creative thinking ability to work on ms words and excel excellent interpersonal skills including patience diplomacy willingness to listen and respect for colleagues ability to work as part of team ability to work effectively in fast paced stressful environment flexibility willingness to perform other duties and work irregular hours fluency in written and spoken armenian language basic knowledge of english language is plus application procedures to apply candidates are asked to email their cvs to anna khachaturyan mentioning driver logistician in the subject line of the message only shortlisted candidates will be invited for an interview save the children international needs to keep children safe so its selection process reflects the organization commitment to the protection of children from abuse please clearly mention in your application letter that you learned of this job opportunity through career center and mention the url of its website www careercenter am thanks opening date february application deadline march about company save the children international established its presence in armenia in with mission to achieve immediate and lasting change in children lives to place free posting for job or other career related opportunities available in your organization just go to the www careercenter am website and follow the post an announcement link»\n",
      "\n",
      "Inferred Vector: [-1.1977388   0.01327816 -0.8030922   0.00712031 -2.783177    0.63912296\n",
      "  0.23894402  3.1381164  -1.9004893   1.3207353  -0.24153803 -1.084961\n",
      "  0.97827226  0.04532934 -4.642548    0.7826213  -1.7307682  -0.12927347\n",
      " -1.7879316  -2.7425961  -0.8294398  -0.91643333  1.456124    0.39182058\n",
      " -1.4546028  -0.7985496   1.5063051  -2.6886904   0.7139739   1.1052476\n",
      "  0.14048564 -1.203455    1.7361318   2.4300551   2.03645    -0.07868086\n",
      " -1.72488     3.282758   -1.568748   -1.4816642  -2.5953953  -0.8218951\n",
      " -1.4848242  -1.6134098   1.8285298  -1.6259056  -0.5807154  -0.19469361\n",
      " -1.1828074  -0.4974015 ]\n",
      "SIMILAR/DISSIMILAR DOCS PER MODEL Doc2Vec(dm/m,d50,n5,w5,mc2,s0.001,t3):\n",
      "\n",
      "MOST (0, 0.7458459734916687): «save the children international armenian representative office title driver logistician term full time start date time march location yerevan armenia job description the driver logistician will be fully responsible for the maintenance and technical oversight of the representative office vehicle fleet transport operations and reporting this includes scheduling of vehicles for servicing management of vehicle fleet and coordination of vehicle assignments for staff transportation and supervision of drivers the incumbent will be ultimately responsible for ensuring that all sci personnel and property are transported in the safest manner possible and in strict accordance with relevant agency and donor policy and procedures and local traffic regulations the driver logistician will also be responsible for outsourcing services for office maintenance and repair transportation services for delivery of materials to the projects sites and logistical support to the sci staff job overseeing technical conditions and coordination of routine care and maintenance of office vehicles ensure that all office vehicles are in good operational order so as to ensure the safety of sci personnel the maximum efficiency of the transport means and the preparedness of the office to respond to its programmatic and administrative needs ensure routine planning and regular rotation of vehicles for inspection maintenance and repair and keep detailed records oversee the scheduling of regular service and repairs of vehicles supervise all mechanical work and maintain detailed service records for all vehicles ensure that good quality services and materials spare parts are procured at reasonable cost where requested coordinate with procurement in the identification and selection of appropriate goods and services necessary for the maintenance and repair of sci vehicles obtain proper documents from service providers and suppliers and ensure the timely payment for services materials procured management of vehicle fleet and coordination of vehicle assignments for staff transportation ensure that all vehicles are properly and securely stored or parked in designated places when not in use ensure that all sci vehicles have full tank of diesel petrol at the end of each working day oversee and coordinate all inter office transport and logistics to ensure efficient and fair usage of office transport resources ensure first and foremost that field office transport resources are used to the maximum advantage of achieving office project and contractual obligations while also ensuring appropriate and adequate support to all other operational and support units assign specific tasks to each driver respond to unplanned vehicle requests each day in an appropriate manner ensure preparedness of vehicle fleet for evacuation in case of emergency training coordination and supervision of office drivers directly supervise the work of drivers ensure that all drivers are fully informed kept up to date and adhere to all relevant co policies and procedures regarding travel and vehicle usage ensure that all drivers are properly trained and possess all proper documents have the necessary skills to ensure safe usage of co vehicles and transportation of office staff ensure that the office personnel is aware of relevant policies and procedures and those are strictly enforced by office drivers and management personnel overseeing the regular monitoring of records and ensuring timely reporting ensure that all vehicles have log books and that the log books are fully maintained and up to date per established policy and procedures and agency and donor regulations monitor and ensure that related office travel and vehicle usage are properly recorded in the vehicle log books reconcile petrol consumption materials and spare parts usage every month prepare monthly reports to reconcile vehicle usage chargeable to sci programs assist in any other appropriate reporting and or monitoring in coordination with senior management to improve the efficiency of transport usage ensure that all vehicles carry any mandated documentation and or equipment as required by agency and donor policies and local regulations logistical support perform collection of vehicle related price quotes for procurement requiring competitive analyses perform custom clearance of pouches and parcels received on the name of sci ensure appropriate and timely registration of sci with custom authorities organize delivery of project materials to the impact area sites ensure selection of reliable transportation companies including collecting quotes as needed and work with them to ensure timely and safe delivery of purchased goods to the project sites assist the operations and security coordinator in vehicle fleet management ensuring that it meets the needs of the co and is maintained in compliance with sci policies and procedures ensure that all vehicles are properly maintained and supplied with necessary equipment first aid kits assist the operations and security coordinator in procurement operations act in accordance with and follow effective procurement policies and procedures ensure that periodic mandatory maintenance check ups of vehicles are carried out in line with the ra legislation ensure that all mandatory insurance related to the vehicle fleet is done and updated in timely manner required qualifications college degree preferably in mechanics or related field and minimum of years of relevant work experience driver license excellent organizational skills critical and creative thinking ability to work on ms words and excel excellent interpersonal skills including patience diplomacy willingness to listen and respect for colleagues ability to work as part of team ability to work effectively in fast paced stressful environment flexibility willingness to perform other duties and work irregular hours fluency in written and spoken armenian language basic knowledge of english language is plus application procedures to apply candidates are asked to email their cvs to anna khachaturyan mentioning driver logistician in the subject line of the message only shortlisted candidates will be invited for an interview save the children international needs to keep children safe so its selection process reflects the organization commitment to the protection of children from abuse please clearly mention in your application letter that you learned of this job opportunity through career center and mention the url of its website www careercenter am thanks opening date february application deadline march about company save the children international established its presence in armenia in with mission to achieve immediate and lasting change in children lives to place free posting for job or other career related opportunities available in your organization just go to the www careercenter am website and follow the post an announcement link»\n",
      "\n",
      "SECOND-MOST (1, 0.299878865480423): «world vision armenia title project manager for caring for equality project start date time asap duration years with possible extension location yerevan armenia job description the project manager pm will have overall responsibility for the coordination of all the project activities and staff he she will be responsible for technical leadership and administrative oversight of the caring for equality project and will serve as the principal institutional liaison to the donor partners and local government entities the pm shall have keen understanding of the unique political dynamics related to gender approaches in the country and work carefully and collaboratively to support the various entities in armenia pm will manage team of the project staff and engagement with stakeholders and ensure the quality timeliness and efficiency of all products and activities generated under the project the pm is expected to have strong leadership qualities and the depth and breadth of technical and management expertise he she also provides strategic leadership and supervision of partners consultants service contractors while ensuring the security feasibility and sustainability of the project and contribution to child well being outcomes job direct and oversee project implementation ensuring that all strategic objectives are met through proper design staffing implementation and quality assurance establish and maintain effective project reporting evaluation and communication systems submit timely accurate and professional reports that meet donor requirements manage the project budget within approved spending levels and ensure the submission of accurate and timely financial reports to donors and the so staff ensure the project expenses are reasonable allocated as per assigned budget prudent and spent in accordance with donor rules and regulations to ensure low risk audits liaise with local government officials local communities donor representatives and other stakeholders as appropriate facilitate learning of best practices on the project technical areas and other donor organizations provide spiritual leadership to the project team attend and participate in weekly devotional meetings establish clear and frequent communication regarding the project progress and oversight management with the donor required qualifications the following knowledge skills and abilities may have been acquired through combination of formal schooling self education prior experience or on the job training master degree in related field or equivalent qualifications in grant management and technical field in developing countries at least years of extensive international development experience in managing projects proven ability to manage technical assistance teams knowledge of and familiarity with international assistance program requirements their policies and regulations keen understanding of the unique political dynamics of the country and ability to work carefully and collaboratively to maintain productive relationships with the various government entities in armenia ability to integrate the teams of professionals around common goals demonstrated accomplishment in working with host country professionals ministries and with donor colleagues in the country strong presentation and report writing skills experience in leading diverse teams experience in managing contracts under grants for complex projects fluency in english and armenian languages experience in managing inter agency consortiums is preferred be prepared to travel to implementation sites and regional meetings as required application procedures if you are interested in this position to apply please register at http careers wvi org job opportunities in armenia and send your cv to hr_wvarm no information inquiries will be handled over the phone only short listed candidates will be notified for the interview please mention the position you are applying for in the subject line please clearly mention in your application letter that you learned of this job opportunity through career center and mention the url of its website www careercenter am thanks opening date october application deadline november about company world vision is christian humanitarian and development organization working to create lasting change in the lives established in world vision operates in nearly countries worldwide it is christian relief development and advocacy organization dedicated to working with children families and communities to overcome poverty and injustice world vision pursues life in all its fullness for every child and serves all people regardless of religion race ethnicity or gender world vision armenia works in communities in six marzes of armenia and in yerevan supporting children and their families the organization fulfills advocacy health care education economic development child protection and spiritual growth activities wv armenia operates mainly through its years long term area development programs adp that are predominantly funded through child sponsorship adps are focused on promoting child well being through community participation and ownership to place free posting for job or other career related opportunities available in your organization just go to the www careercenter am website and follow the post an announcement link»\n",
      "\n",
      "MEDIAN (1, 0.299878865480423): «world vision armenia title project manager for caring for equality project start date time asap duration years with possible extension location yerevan armenia job description the project manager pm will have overall responsibility for the coordination of all the project activities and staff he she will be responsible for technical leadership and administrative oversight of the caring for equality project and will serve as the principal institutional liaison to the donor partners and local government entities the pm shall have keen understanding of the unique political dynamics related to gender approaches in the country and work carefully and collaboratively to support the various entities in armenia pm will manage team of the project staff and engagement with stakeholders and ensure the quality timeliness and efficiency of all products and activities generated under the project the pm is expected to have strong leadership qualities and the depth and breadth of technical and management expertise he she also provides strategic leadership and supervision of partners consultants service contractors while ensuring the security feasibility and sustainability of the project and contribution to child well being outcomes job direct and oversee project implementation ensuring that all strategic objectives are met through proper design staffing implementation and quality assurance establish and maintain effective project reporting evaluation and communication systems submit timely accurate and professional reports that meet donor requirements manage the project budget within approved spending levels and ensure the submission of accurate and timely financial reports to donors and the so staff ensure the project expenses are reasonable allocated as per assigned budget prudent and spent in accordance with donor rules and regulations to ensure low risk audits liaise with local government officials local communities donor representatives and other stakeholders as appropriate facilitate learning of best practices on the project technical areas and other donor organizations provide spiritual leadership to the project team attend and participate in weekly devotional meetings establish clear and frequent communication regarding the project progress and oversight management with the donor required qualifications the following knowledge skills and abilities may have been acquired through combination of formal schooling self education prior experience or on the job training master degree in related field or equivalent qualifications in grant management and technical field in developing countries at least years of extensive international development experience in managing projects proven ability to manage technical assistance teams knowledge of and familiarity with international assistance program requirements their policies and regulations keen understanding of the unique political dynamics of the country and ability to work carefully and collaboratively to maintain productive relationships with the various government entities in armenia ability to integrate the teams of professionals around common goals demonstrated accomplishment in working with host country professionals ministries and with donor colleagues in the country strong presentation and report writing skills experience in leading diverse teams experience in managing contracts under grants for complex projects fluency in english and armenian languages experience in managing inter agency consortiums is preferred be prepared to travel to implementation sites and regional meetings as required application procedures if you are interested in this position to apply please register at http careers wvi org job opportunities in armenia and send your cv to hr_wvarm no information inquiries will be handled over the phone only short listed candidates will be notified for the interview please mention the position you are applying for in the subject line please clearly mention in your application letter that you learned of this job opportunity through career center and mention the url of its website www careercenter am thanks opening date october application deadline november about company world vision is christian humanitarian and development organization working to create lasting change in the lives established in world vision operates in nearly countries worldwide it is christian relief development and advocacy organization dedicated to working with children families and communities to overcome poverty and injustice world vision pursues life in all its fullness for every child and serves all people regardless of religion race ethnicity or gender world vision armenia works in communities in six marzes of armenia and in yerevan supporting children and their families the organization fulfills advocacy health care education economic development child protection and spiritual growth activities wv armenia operates mainly through its years long term area development programs adp that are predominantly funded through child sponsorship adps are focused on promoting child well being through community participation and ownership to place free posting for job or other career related opportunities available in your organization just go to the www careercenter am website and follow the post an announcement link»\n",
      "\n",
      "LEAST (1, 0.299878865480423): «world vision armenia title project manager for caring for equality project start date time asap duration years with possible extension location yerevan armenia job description the project manager pm will have overall responsibility for the coordination of all the project activities and staff he she will be responsible for technical leadership and administrative oversight of the caring for equality project and will serve as the principal institutional liaison to the donor partners and local government entities the pm shall have keen understanding of the unique political dynamics related to gender approaches in the country and work carefully and collaboratively to support the various entities in armenia pm will manage team of the project staff and engagement with stakeholders and ensure the quality timeliness and efficiency of all products and activities generated under the project the pm is expected to have strong leadership qualities and the depth and breadth of technical and management expertise he she also provides strategic leadership and supervision of partners consultants service contractors while ensuring the security feasibility and sustainability of the project and contribution to child well being outcomes job direct and oversee project implementation ensuring that all strategic objectives are met through proper design staffing implementation and quality assurance establish and maintain effective project reporting evaluation and communication systems submit timely accurate and professional reports that meet donor requirements manage the project budget within approved spending levels and ensure the submission of accurate and timely financial reports to donors and the so staff ensure the project expenses are reasonable allocated as per assigned budget prudent and spent in accordance with donor rules and regulations to ensure low risk audits liaise with local government officials local communities donor representatives and other stakeholders as appropriate facilitate learning of best practices on the project technical areas and other donor organizations provide spiritual leadership to the project team attend and participate in weekly devotional meetings establish clear and frequent communication regarding the project progress and oversight management with the donor required qualifications the following knowledge skills and abilities may have been acquired through combination of formal schooling self education prior experience or on the job training master degree in related field or equivalent qualifications in grant management and technical field in developing countries at least years of extensive international development experience in managing projects proven ability to manage technical assistance teams knowledge of and familiarity with international assistance program requirements their policies and regulations keen understanding of the unique political dynamics of the country and ability to work carefully and collaboratively to maintain productive relationships with the various government entities in armenia ability to integrate the teams of professionals around common goals demonstrated accomplishment in working with host country professionals ministries and with donor colleagues in the country strong presentation and report writing skills experience in leading diverse teams experience in managing contracts under grants for complex projects fluency in english and armenian languages experience in managing inter agency consortiums is preferred be prepared to travel to implementation sites and regional meetings as required application procedures if you are interested in this position to apply please register at http careers wvi org job opportunities in armenia and send your cv to hr_wvarm no information inquiries will be handled over the phone only short listed candidates will be notified for the interview please mention the position you are applying for in the subject line please clearly mention in your application letter that you learned of this job opportunity through career center and mention the url of its website www careercenter am thanks opening date october application deadline november about company world vision is christian humanitarian and development organization working to create lasting change in the lives established in world vision operates in nearly countries worldwide it is christian relief development and advocacy organization dedicated to working with children families and communities to overcome poverty and injustice world vision pursues life in all its fullness for every child and serves all people regardless of religion race ethnicity or gender world vision armenia works in communities in six marzes of armenia and in yerevan supporting children and their families the organization fulfills advocacy health care education economic development child protection and spiritual growth activities wv armenia operates mainly through its years long term area development programs adp that are predominantly funded through child sponsorship adps are focused on promoting child well being through community participation and ownership to place free posting for job or other career related opportunities available in your organization just go to the www careercenter am website and follow the post an announcement link»\n",
      "\n"
     ]
    }
   ],
   "source": [
    "doc_id = 0\n",
    "print('Document ({}): «{}»\\n'.format(doc_id, ' '.join(train_corpus[doc_id].words)))\n",
    "inferred_vector = model.infer_vector(train_corpus[doc_id].words)\n",
    "print(\"Inferred Vector: {}\".format(inferred_vector))\n",
    "sims = model.docvecs.most_similar([inferred_vector], topn=len(model.docvecs))\n",
    "print(u'SIMILAR/DISSIMILAR DOCS PER MODEL %s:\\n' % model)\n",
    "for label, index in [('MOST', 0), ('SECOND-MOST', 1), ('MEDIAN', len(sims)//2), ('LEAST', len(sims) - 1)]:\n",
    "    print(u'%s %s: «%s»\\n' % (label, sims[index], ' '.join(train_corpus[sims[index][0]].words)))"
   ]
  },
  {
   "cell_type": "markdown",
   "metadata": {},
   "source": [
    "## Testing the Model"
   ]
  },
  {
   "cell_type": "code",
   "execution_count": 14,
   "metadata": {},
   "outputs": [
    {
     "name": "stdout",
     "output_type": "stream",
     "text": [
      "Test Document (3902): «melicka gm ltd title sales representative location yerevan armenia job description job represent the company interests and develop its business negotiate contracts with potential customers collect orders handle those and organize the placement plan and organize shipments of orders control goods turnover on customers warehouses prepare accurate monthly report about the activities required qualifications university degree at least years of work experience in relevant field sales oriented personality good communication skills ability to take initiative and solve problems fluency in armenian and russian languages knowledge of english language is plus excellent organizational and planning skills computer literacy existence of own car application procedures please apply to this job by sending your cover letter and resume to toptex please clearly mention in your application letter that you learned of this job opportunity through career center and mention the url of its website www careercenter am thanks opening date june application deadline july to place free posting for job or other career related opportunities available in your organization just go to the www careercenter am website and follow the post an announcement link»\n",
      "\n",
      "SIMILAR/DISSIMILAR DOCS PER MODEL Doc2Vec(dm/m,d50,n5,w5,mc2,s0.001,t3):\n",
      "\n",
      "MOST (0, 0.7649354934692383): «save the children international armenian representative office title driver logistician term full time start date time march location yerevan armenia job description the driver logistician will be fully responsible for the maintenance and technical oversight of the representative office vehicle fleet transport operations and reporting this includes scheduling of vehicles for servicing management of vehicle fleet and coordination of vehicle assignments for staff transportation and supervision of drivers the incumbent will be ultimately responsible for ensuring that all sci personnel and property are transported in the safest manner possible and in strict accordance with relevant agency and donor policy and procedures and local traffic regulations the driver logistician will also be responsible for outsourcing services for office maintenance and repair transportation services for delivery of materials to the projects sites and logistical support to the sci staff job overseeing technical conditions and coordination of routine care and maintenance of office vehicles ensure that all office vehicles are in good operational order so as to ensure the safety of sci personnel the maximum efficiency of the transport means and the preparedness of the office to respond to its programmatic and administrative needs ensure routine planning and regular rotation of vehicles for inspection maintenance and repair and keep detailed records oversee the scheduling of regular service and repairs of vehicles supervise all mechanical work and maintain detailed service records for all vehicles ensure that good quality services and materials spare parts are procured at reasonable cost where requested coordinate with procurement in the identification and selection of appropriate goods and services necessary for the maintenance and repair of sci vehicles obtain proper documents from service providers and suppliers and ensure the timely payment for services materials procured management of vehicle fleet and coordination of vehicle assignments for staff transportation ensure that all vehicles are properly and securely stored or parked in designated places when not in use ensure that all sci vehicles have full tank of diesel petrol at the end of each working day oversee and coordinate all inter office transport and logistics to ensure efficient and fair usage of office transport resources ensure first and foremost that field office transport resources are used to the maximum advantage of achieving office project and contractual obligations while also ensuring appropriate and adequate support to all other operational and support units assign specific tasks to each driver respond to unplanned vehicle requests each day in an appropriate manner ensure preparedness of vehicle fleet for evacuation in case of emergency training coordination and supervision of office drivers directly supervise the work of drivers ensure that all drivers are fully informed kept up to date and adhere to all relevant co policies and procedures regarding travel and vehicle usage ensure that all drivers are properly trained and possess all proper documents have the necessary skills to ensure safe usage of co vehicles and transportation of office staff ensure that the office personnel is aware of relevant policies and procedures and those are strictly enforced by office drivers and management personnel overseeing the regular monitoring of records and ensuring timely reporting ensure that all vehicles have log books and that the log books are fully maintained and up to date per established policy and procedures and agency and donor regulations monitor and ensure that related office travel and vehicle usage are properly recorded in the vehicle log books reconcile petrol consumption materials and spare parts usage every month prepare monthly reports to reconcile vehicle usage chargeable to sci programs assist in any other appropriate reporting and or monitoring in coordination with senior management to improve the efficiency of transport usage ensure that all vehicles carry any mandated documentation and or equipment as required by agency and donor policies and local regulations logistical support perform collection of vehicle related price quotes for procurement requiring competitive analyses perform custom clearance of pouches and parcels received on the name of sci ensure appropriate and timely registration of sci with custom authorities organize delivery of project materials to the impact area sites ensure selection of reliable transportation companies including collecting quotes as needed and work with them to ensure timely and safe delivery of purchased goods to the project sites assist the operations and security coordinator in vehicle fleet management ensuring that it meets the needs of the co and is maintained in compliance with sci policies and procedures ensure that all vehicles are properly maintained and supplied with necessary equipment first aid kits assist the operations and security coordinator in procurement operations act in accordance with and follow effective procurement policies and procedures ensure that periodic mandatory maintenance check ups of vehicles are carried out in line with the ra legislation ensure that all mandatory insurance related to the vehicle fleet is done and updated in timely manner required qualifications college degree preferably in mechanics or related field and minimum of years of relevant work experience driver license excellent organizational skills critical and creative thinking ability to work on ms words and excel excellent interpersonal skills including patience diplomacy willingness to listen and respect for colleagues ability to work as part of team ability to work effectively in fast paced stressful environment flexibility willingness to perform other duties and work irregular hours fluency in written and spoken armenian language basic knowledge of english language is plus application procedures to apply candidates are asked to email their cvs to anna khachaturyan mentioning driver logistician in the subject line of the message only shortlisted candidates will be invited for an interview save the children international needs to keep children safe so its selection process reflects the organization commitment to the protection of children from abuse please clearly mention in your application letter that you learned of this job opportunity through career center and mention the url of its website www careercenter am thanks opening date february application deadline march about company save the children international established its presence in armenia in with mission to achieve immediate and lasting change in children lives to place free posting for job or other career related opportunities available in your organization just go to the www careercenter am website and follow the post an announcement link»\n",
      "\n",
      "MEDIAN (1, 0.5824384093284607): «world vision armenia title project manager for caring for equality project start date time asap duration years with possible extension location yerevan armenia job description the project manager pm will have overall responsibility for the coordination of all the project activities and staff he she will be responsible for technical leadership and administrative oversight of the caring for equality project and will serve as the principal institutional liaison to the donor partners and local government entities the pm shall have keen understanding of the unique political dynamics related to gender approaches in the country and work carefully and collaboratively to support the various entities in armenia pm will manage team of the project staff and engagement with stakeholders and ensure the quality timeliness and efficiency of all products and activities generated under the project the pm is expected to have strong leadership qualities and the depth and breadth of technical and management expertise he she also provides strategic leadership and supervision of partners consultants service contractors while ensuring the security feasibility and sustainability of the project and contribution to child well being outcomes job direct and oversee project implementation ensuring that all strategic objectives are met through proper design staffing implementation and quality assurance establish and maintain effective project reporting evaluation and communication systems submit timely accurate and professional reports that meet donor requirements manage the project budget within approved spending levels and ensure the submission of accurate and timely financial reports to donors and the so staff ensure the project expenses are reasonable allocated as per assigned budget prudent and spent in accordance with donor rules and regulations to ensure low risk audits liaise with local government officials local communities donor representatives and other stakeholders as appropriate facilitate learning of best practices on the project technical areas and other donor organizations provide spiritual leadership to the project team attend and participate in weekly devotional meetings establish clear and frequent communication regarding the project progress and oversight management with the donor required qualifications the following knowledge skills and abilities may have been acquired through combination of formal schooling self education prior experience or on the job training master degree in related field or equivalent qualifications in grant management and technical field in developing countries at least years of extensive international development experience in managing projects proven ability to manage technical assistance teams knowledge of and familiarity with international assistance program requirements their policies and regulations keen understanding of the unique political dynamics of the country and ability to work carefully and collaboratively to maintain productive relationships with the various government entities in armenia ability to integrate the teams of professionals around common goals demonstrated accomplishment in working with host country professionals ministries and with donor colleagues in the country strong presentation and report writing skills experience in leading diverse teams experience in managing contracts under grants for complex projects fluency in english and armenian languages experience in managing inter agency consortiums is preferred be prepared to travel to implementation sites and regional meetings as required application procedures if you are interested in this position to apply please register at http careers wvi org job opportunities in armenia and send your cv to hr_wvarm no information inquiries will be handled over the phone only short listed candidates will be notified for the interview please mention the position you are applying for in the subject line please clearly mention in your application letter that you learned of this job opportunity through career center and mention the url of its website www careercenter am thanks opening date october application deadline november about company world vision is christian humanitarian and development organization working to create lasting change in the lives established in world vision operates in nearly countries worldwide it is christian relief development and advocacy organization dedicated to working with children families and communities to overcome poverty and injustice world vision pursues life in all its fullness for every child and serves all people regardless of religion race ethnicity or gender world vision armenia works in communities in six marzes of armenia and in yerevan supporting children and their families the organization fulfills advocacy health care education economic development child protection and spiritual growth activities wv armenia operates mainly through its years long term area development programs adp that are predominantly funded through child sponsorship adps are focused on promoting child well being through community participation and ownership to place free posting for job or other career related opportunities available in your organization just go to the www careercenter am website and follow the post an announcement link»\n",
      "\n",
      "LEAST (1, 0.5824384093284607): «world vision armenia title project manager for caring for equality project start date time asap duration years with possible extension location yerevan armenia job description the project manager pm will have overall responsibility for the coordination of all the project activities and staff he she will be responsible for technical leadership and administrative oversight of the caring for equality project and will serve as the principal institutional liaison to the donor partners and local government entities the pm shall have keen understanding of the unique political dynamics related to gender approaches in the country and work carefully and collaboratively to support the various entities in armenia pm will manage team of the project staff and engagement with stakeholders and ensure the quality timeliness and efficiency of all products and activities generated under the project the pm is expected to have strong leadership qualities and the depth and breadth of technical and management expertise he she also provides strategic leadership and supervision of partners consultants service contractors while ensuring the security feasibility and sustainability of the project and contribution to child well being outcomes job direct and oversee project implementation ensuring that all strategic objectives are met through proper design staffing implementation and quality assurance establish and maintain effective project reporting evaluation and communication systems submit timely accurate and professional reports that meet donor requirements manage the project budget within approved spending levels and ensure the submission of accurate and timely financial reports to donors and the so staff ensure the project expenses are reasonable allocated as per assigned budget prudent and spent in accordance with donor rules and regulations to ensure low risk audits liaise with local government officials local communities donor representatives and other stakeholders as appropriate facilitate learning of best practices on the project technical areas and other donor organizations provide spiritual leadership to the project team attend and participate in weekly devotional meetings establish clear and frequent communication regarding the project progress and oversight management with the donor required qualifications the following knowledge skills and abilities may have been acquired through combination of formal schooling self education prior experience or on the job training master degree in related field or equivalent qualifications in grant management and technical field in developing countries at least years of extensive international development experience in managing projects proven ability to manage technical assistance teams knowledge of and familiarity with international assistance program requirements their policies and regulations keen understanding of the unique political dynamics of the country and ability to work carefully and collaboratively to maintain productive relationships with the various government entities in armenia ability to integrate the teams of professionals around common goals demonstrated accomplishment in working with host country professionals ministries and with donor colleagues in the country strong presentation and report writing skills experience in leading diverse teams experience in managing contracts under grants for complex projects fluency in english and armenian languages experience in managing inter agency consortiums is preferred be prepared to travel to implementation sites and regional meetings as required application procedures if you are interested in this position to apply please register at http careers wvi org job opportunities in armenia and send your cv to hr_wvarm no information inquiries will be handled over the phone only short listed candidates will be notified for the interview please mention the position you are applying for in the subject line please clearly mention in your application letter that you learned of this job opportunity through career center and mention the url of its website www careercenter am thanks opening date october application deadline november about company world vision is christian humanitarian and development organization working to create lasting change in the lives established in world vision operates in nearly countries worldwide it is christian relief development and advocacy organization dedicated to working with children families and communities to overcome poverty and injustice world vision pursues life in all its fullness for every child and serves all people regardless of religion race ethnicity or gender world vision armenia works in communities in six marzes of armenia and in yerevan supporting children and their families the organization fulfills advocacy health care education economic development child protection and spiritual growth activities wv armenia operates mainly through its years long term area development programs adp that are predominantly funded through child sponsorship adps are focused on promoting child well being through community participation and ownership to place free posting for job or other career related opportunities available in your organization just go to the www careercenter am website and follow the post an announcement link»\n",
      "\n"
     ]
    }
   ],
   "source": [
    "# Pick a random document from the test corpus and infer a vector from the model\n",
    "doc_id = random.randint(0, len(test_corpus) - 1)\n",
    "inferred_vector = model.infer_vector(test_corpus[doc_id])\n",
    "sims = model.docvecs.most_similar([inferred_vector], topn=len(model.docvecs))\n",
    "\n",
    "# Compare and print the most/median/least similar documents from the train corpus\n",
    "print('Test Document ({}): «{}»\\n'.format(doc_id, ' '.join(test_corpus[doc_id])))\n",
    "print(u'SIMILAR/DISSIMILAR DOCS PER MODEL %s:\\n' % model)\n",
    "for label, index in [('MOST', 0), ('MEDIAN', len(sims)//2), ('LEAST', len(sims) - 1)]:\n",
    "    print(u'%s %s: «%s»\\n' % (label, sims[index], ' '.join(train_corpus[sims[index][0]].words)))"
   ]
  },
  {
   "cell_type": "markdown",
   "metadata": {},
   "source": [
    "### Use Doc2Vec with SVM"
   ]
  },
  {
   "cell_type": "code",
   "execution_count": 15,
   "metadata": {},
   "outputs": [],
   "source": [
    "train_X, train_y = [], []\n",
    "for corpora in train_corpus:\n",
    "    train_X.append(model.infer_vector(corpora.words))\n",
    "    train_y.append(corpora.tags[0])\n",
    "    \n",
    "train_X = np.array(train_X)\n",
    "train_y = np.array(train_y)"
   ]
  },
  {
   "cell_type": "code",
   "execution_count": 16,
   "metadata": {},
   "outputs": [],
   "source": [
    "test_X = []\n",
    "for corpora in test_corpus:\n",
    "    test_X.append(model.infer_vector(corpora))\n",
    "    \n",
    "test_X = np.array(test_X)"
   ]
  },
  {
   "cell_type": "code",
   "execution_count": 17,
   "metadata": {},
   "outputs": [],
   "source": [
    "test_y = test['label']"
   ]
  },
  {
   "cell_type": "code",
   "execution_count": 18,
   "metadata": {},
   "outputs": [
    {
     "data": {
      "text/plain": [
       "SVC(C=100.0, break_ties=False, cache_size=200, class_weight=None, coef0=0.0,\n",
       "    decision_function_shape='ovr', degree=3, gamma=0.001, kernel='rbf',\n",
       "    max_iter=-1, probability=False, random_state=None, shrinking=True,\n",
       "    tol=0.001, verbose=False)"
      ]
     },
     "execution_count": 18,
     "metadata": {},
     "output_type": "execute_result"
    }
   ],
   "source": [
    "from sklearn import svm\n",
    "\n",
    "clf = svm.SVC(gamma=0.001, C=100.)\n",
    "\n",
    "clf.fit(train_X, train_y)"
   ]
  },
  {
   "cell_type": "markdown",
   "metadata": {},
   "source": [
    "**Predicting Y for test**"
   ]
  },
  {
   "cell_type": "code",
   "execution_count": 19,
   "metadata": {},
   "outputs": [],
   "source": [
    "predicted_y = clf.predict(test_X)"
   ]
  },
  {
   "cell_type": "code",
   "execution_count": 20,
   "metadata": {},
   "outputs": [],
   "source": [
    "import matplotlib.pyplot as plt\n",
    "import itertools\n",
    "from sklearn.metrics import confusion_matrix, classification_report\n",
    "\n",
    "def print_conf_matrix(y_true, y_pred, \n",
    "                             classes,\n",
    "                             normalize=False,\n",
    "                             title='Confusion matrix',\n",
    "                             cmap=plt.cm.Blues):\n",
    "    \n",
    "\n",
    "    cm = confusion_matrix(y_true, y_pred)\n",
    "\n",
    "    # Configure Confusion Matrix Plot Aesthetics (no text yet) \n",
    "    plt.imshow(cm, interpolation='nearest', cmap=cmap)\n",
    "    plt.title(title, fontsize=14)\n",
    "    tick_marks = np.arange(len(classes))\n",
    "    plt.xticks(tick_marks, classes, rotation=45)\n",
    "    plt.yticks(tick_marks, classes)\n",
    "    plt.ylabel('True label', fontsize=12)\n",
    "    plt.xlabel('Predicted label', fontsize=12)\n",
    "\n",
    "    # Calculate normalized values (so all cells sum to 1) if desired\n",
    "    if normalize:\n",
    "        cm = np.round(cm.astype('float') / cm.sum(),2) #(axis=1)[:, np.newaxis]\n",
    "\n",
    "    # Place Numbers as Text on Confusion Matrix Plot\n",
    "    thresh = cm.max() / 2.\n",
    "    for i, j in itertools.product(range(cm.shape[0]), range(cm.shape[1])):\n",
    "        plt.text(j, i, cm[i, j],\n",
    "                 horizontalalignment=\"center\",\n",
    "                 color=\"white\" if cm[i, j] > thresh else \"black\",\n",
    "                 fontsize=12)"
   ]
  },
  {
   "cell_type": "code",
   "execution_count": 21,
   "metadata": {},
   "outputs": [
    {
     "data": {
      "image/png": "[encoded data removed]",
      "text/plain": [
       "<Figure size 432x288 with 1 Axes>"
      ]
     },
     "metadata": {
      "needs_background": "light"
     },
     "output_type": "display_data"
    }
   ],
   "source": [
    "print_conf_matrix(y_true=test_y, y_pred=predicted_y, classes=[\"False\", \"True\"])"
   ]
  },
  {
   "cell_type": "code",
   "execution_count": 22,
   "metadata": {},
   "outputs": [
    {
     "name": "stdout",
     "output_type": "stream",
     "text": [
      "              precision    recall  f1-score   support\n",
      "\n",
      "       False       0.95      0.95      0.95      4573\n",
      "        True       0.81      0.82      0.82      1128\n",
      "\n",
      "    accuracy                           0.93      5701\n",
      "   macro avg       0.88      0.88      0.88      5701\n",
      "weighted avg       0.93      0.93      0.93      5701\n",
      "\n"
     ]
    }
   ],
   "source": [
    "rpt = classification_report(test_y, predicted_y)\n",
    "print(rpt)"
   ]
  },
  {
   "cell_type": "code",
   "execution_count": null,
   "metadata": {},
   "outputs": [],
   "source": []
  }
 ],
 "metadata": {
  "kernelspec": {
   "display_name": "Python 3",
   "language": "python",
   "name": "python3"
  },
  "language_info": {
   "codemirror_mode": {
    "name": "ipython",
    "version": 3
   },
   "file_extension": ".py",
   "mimetype": "text/x-python",
   "name": "python",
   "nbconvert_exporter": "python",
   "pygments_lexer": "ipython3",
   "version": "3.7.4"
  }
 },
 "nbformat": 4,
 "nbformat_minor": 2
}
